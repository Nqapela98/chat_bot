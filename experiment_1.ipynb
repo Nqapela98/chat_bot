{
 "cells": [
  {
   "cell_type": "code",
   "execution_count": 23,
   "metadata": {},
   "outputs": [],
   "source": [
    "import os\n",
    "from dotenv import load_dotenv\n",
    "from openai import OpenAI\n",
    "\n"
   ]
  },
  {
   "cell_type": "code",
   "execution_count": 24,
   "metadata": {},
   "outputs": [],
   "source": [
    "# Load .env and get the API key\n",
    "load_dotenv()\n",
    "api_key = os.getenv(\"OPENAI_API_KEY\")\n",
    "\n",
    "# Initialize OpenAI client\n",
    "client = OpenAI(api_key=api_key)\n"
   ]
  },
  {
   "cell_type": "code",
   "execution_count": 25,
   "metadata": {},
   "outputs": [],
   "source": [
    "# Define Generic Schema (Mocked Metadata)\n",
    "def load_generic_schema():\n",
    "    return [\n",
    "        {\n",
    "            \"source\": \"GCP_BigQuery\",\n",
    "            \"table_name\": \"customers\",\n",
    "            \"description\": \"Customer details including region and demographics.\",\n",
    "            \"columns\": [\n",
    "                {\"name\": \"customer_id\", \"type\": \"STRING\"},\n",
    "                {\"name\": \"name\", \"type\": \"STRING\"},\n",
    "                {\"name\": \"region\", \"type\": \"STRING\"},\n",
    "                {\"name\": \"signup_date\", \"type\": \"DATE\"},\n",
    "            ]\n",
    "        },\n",
    "        {\n",
    "            \"source\": \"AWS_Redshift\",\n",
    "            \"table_name\": \"orders\",\n",
    "            \"description\": \"Order transactions placed by customers.\",\n",
    "            \"columns\": [\n",
    "                {\"name\": \"order_id\", \"type\": \"STRING\"},\n",
    "                {\"name\": \"customer_id\", \"type\": \"STRING\"},\n",
    "                {\"name\": \"product_id\", \"type\": \"STRING\"},\n",
    "                {\"name\": \"order_date\", \"type\": \"DATE\"},\n",
    "                {\"name\": \"amount\", \"type\": \"FLOAT\"},\n",
    "            ]\n",
    "        },\n",
    "        {\n",
    "            \"source\": \"AWS_RDS\",\n",
    "            \"table_name\": \"products\",\n",
    "            \"description\": \"Product catalog.\",\n",
    "            \"columns\": [\n",
    "                {\"name\": \"product_id\", \"type\": \"STRING\"},\n",
    "                {\"name\": \"product_name\", \"type\": \"STRING\"},\n",
    "                {\"name\": \"category\", \"type\": \"STRING\"},\n",
    "                {\"name\": \"price\", \"type\": \"FLOAT\"},\n",
    "            ]\n",
    "        }\n",
    "    ]\n",
    "\n",
    "#"
   ]
  },
  {
   "cell_type": "code",
   "execution_count": 26,
   "metadata": {},
   "outputs": [],
   "source": [
    "# Format Schema for LLM Context\n",
    "def format_schema(schema):\n",
    "    formatted = \"\"\n",
    "    for table in schema:\n",
    "        formatted += f\"\\nTable: `{table['table_name']}` ({table['source']})\\n\"\n",
    "        formatted += f\" Description: {table['description']}\\n\"\n",
    "        for col in table['columns']:\n",
    "            formatted += f\"    - {col['name']} ({col['type']})\\n\"\n",
    "    return formatted\n",
    "\n"
   ]
  },
  {
   "cell_type": "code",
   "execution_count": 27,
   "metadata": {},
   "outputs": [],
   "source": [
    "\n",
    "# Generate SQL Using OpenAI GPT\n",
    "def generate_sql(user_input, schema_context):\n",
    "    prompt = f\"\"\"\n",
    "You are a helpful data assistant. Based on the schema below, write a SQL queries when needed and answer any question the user's asks regarding the data.\n",
    "\n",
    "Schema:\n",
    "{schema_context}\n",
    "\n",
    "User Question:\n",
    "{user_input}\n",
    "\n",
    "SQL Query:\n",
    "\"\"\"\n",
    "    response = client.chat.completions.create(\n",
    "        model=\"gpt-4\",\n",
    "        messages=[{\"role\": \"user\", \"content\": prompt}],\n",
    "        temperature=0.2,\n",
    "        max_tokens= 250\n",
    "    )\n",
    "    \n",
    "    return response.choices[0].message.content.strip()\n",
    "\n"
   ]
  },
  {
   "cell_type": "code",
   "execution_count": 28,
   "metadata": {},
   "outputs": [],
   "source": [
    "\n",
    "\n",
    "# Main CLI Loop\n",
    "def main():\n",
    "    schema = load_generic_schema()\n",
    "    schema_context = format_schema(schema)\n",
    "\n",
    "    print(\"Enterprise Data Assistant (NL ➜ SQL)\\n\")\n",
    "    while True:\n",
    "        user_input = input(\"Ask a question about your data (or 'exit'): \").strip()\n",
    "        if user_input.lower() in ['exit', 'quit']:\n",
    "            break\n",
    "        sql = generate_sql(user_input, schema_context)\n",
    "        print(\"\\nGenerated SQL:\\n\", sql, \"\\n\" + \"-\"*50 + \"\\n\")\n"
   ]
  },
  {
   "cell_type": "code",
   "execution_count": 29,
   "metadata": {},
   "outputs": [
    {
     "name": "stdout",
     "output_type": "stream",
     "text": [
      "Enterprise Data Assistant (NL ➜ SQL)\n",
      "\n",
      "\n",
      "Generated SQL:\n",
      " As a data assistant, I can't execute SQL queries but I can provide you with the information about the tables available in your systems based on the schema you provided.\n",
      "\n",
      "1. `customers` table (stored in Google Cloud Platform's BigQuery): This table contains details about your customers, including their unique ID (`customer_id`), their name (`name`), the region they are from (`region`), and the date they signed up (`signup_date`).\n",
      "\n",
      "2. `orders` table (stored in Amazon Web Services' Redshift): This table contains information about the transactions placed by customers. It includes the unique ID of the order (`order_id`), the unique ID of the customer who placed the order (`customer_id`), the unique ID of the product ordered (`product_id`), the date of the order (`order_date`), and the amount of the order (`amount`).\n",
      "\n",
      "3. `products` table (stored in Amazon Web Services' RDS): This table contains your product catalog. It includes the unique ID of the product (`product_id`), the name of the product (`product_name`), the category the product falls under (`category`), and the price of the product (`price`). \n",
      "--------------------------------------------------\n",
      "\n"
     ]
    }
   ],
   "source": [
    "main()"
   ]
  },
  {
   "cell_type": "code",
   "execution_count": 30,
   "metadata": {},
   "outputs": [
    {
     "name": "stdout",
     "output_type": "stream",
     "text": [
      "Enterprise Data Assistant (NL ➜ SQL)\n",
      "\n",
      "\n",
      "Generated SQL:\n",
      " SELECT customer_id, COUNT(order_id) as number_of_orders\n",
      "FROM orders\n",
      "GROUP BY customer_id; \n",
      "--------------------------------------------------\n",
      "\n"
     ]
    }
   ],
   "source": [
    "main()"
   ]
  }
 ],
 "metadata": {
  "kernelspec": {
   "display_name": "llm_exp",
   "language": "python",
   "name": "python3"
  },
  "language_info": {
   "codemirror_mode": {
    "name": "ipython",
    "version": 3
   },
   "file_extension": ".py",
   "mimetype": "text/x-python",
   "name": "python",
   "nbconvert_exporter": "python",
   "pygments_lexer": "ipython3",
   "version": "3.12.3"
  }
 },
 "nbformat": 4,
 "nbformat_minor": 2
}
