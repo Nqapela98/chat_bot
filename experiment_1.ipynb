{
 "cells": [
  {
   "cell_type": "code",
   "execution_count": 23,
   "metadata": {},
   "outputs": [],
   "source": [
    "import os\n",
    "from dotenv import load_dotenv\n",
    "from openai import OpenAI\n",
    "\n"
   ]
  },
  {
   "cell_type": "code",
   "execution_count": 24,
   "metadata": {},
   "outputs": [],
   "source": [
    "# Load .env and get the API key\n",
    "load_dotenv()\n",
    "api_key = os.getenv(\"OPENAI_API_KEY\")\n",
    "\n",
    "# Initialize OpenAI client\n",
    "client = OpenAI(api_key=api_key)\n"
   ]
  },
  {
   "cell_type": "code",
   "execution_count": 25,
   "metadata": {},
   "outputs": [],
   "source": [
    "# 1️⃣ Define Generic Schema (Mocked Metadata)\n",
    "def load_generic_schema():\n",
    "    return [\n",
    "        {\n",
    "            \"source\": \"GCP_BigQuery\",\n",
    "            \"table_name\": \"customers\",\n",
    "            \"description\": \"Customer details including region and demographics.\",\n",
    "            \"columns\": [\n",
    "                {\"name\": \"customer_id\", \"type\": \"STRING\"},\n",
    "                {\"name\": \"name\", \"type\": \"STRING\"},\n",
    "                {\"name\": \"region\", \"type\": \"STRING\"},\n",
    "                {\"name\": \"signup_date\", \"type\": \"DATE\"},\n",
    "            ]\n",
    "        },\n",
    "        {\n",
    "            \"source\": \"AWS_Redshift\",\n",
    "            \"table_name\": \"orders\",\n",
    "            \"description\": \"Order transactions placed by customers.\",\n",
    "            \"columns\": [\n",
    "                {\"name\": \"order_id\", \"type\": \"STRING\"},\n",
    "                {\"name\": \"customer_id\", \"type\": \"STRING\"},\n",
    "                {\"name\": \"product_id\", \"type\": \"STRING\"},\n",
    "                {\"name\": \"order_date\", \"type\": \"DATE\"},\n",
    "                {\"name\": \"amount\", \"type\": \"FLOAT\"},\n",
    "            ]\n",
    "        },\n",
    "        {\n",
    "            \"source\": \"AWS_RDS\",\n",
    "            \"table_name\": \"products\",\n",
    "            \"description\": \"Product catalog.\",\n",
    "            \"columns\": [\n",
    "                {\"name\": \"product_id\", \"type\": \"STRING\"},\n",
    "                {\"name\": \"product_name\", \"type\": \"STRING\"},\n",
    "                {\"name\": \"category\", \"type\": \"STRING\"},\n",
    "                {\"name\": \"price\", \"type\": \"FLOAT\"},\n",
    "            ]\n",
    "        }\n",
    "    ]\n",
    "\n",
    "#"
   ]
  },
  {
   "cell_type": "code",
   "execution_count": 26,
   "metadata": {},
   "outputs": [],
   "source": [
    "# 2️⃣ Format Schema for LLM Context\n",
    "def format_schema(schema):\n",
    "    formatted = \"\"\n",
    "    for table in schema:\n",
    "        formatted += f\"\\n📦 Table: `{table['table_name']}` ({table['source']})\\n\"\n",
    "        formatted += f\"  📝 Description: {table['description']}\\n\"\n",
    "        for col in table['columns']:\n",
    "            formatted += f\"    - {col['name']} ({col['type']})\\n\"\n",
    "    return formatted\n",
    "\n"
   ]
  },
  {
   "cell_type": "code",
   "execution_count": 30,
   "metadata": {},
   "outputs": [],
   "source": [
    "\n",
    "# 3️⃣ Generate SQL Using OpenAI GPT\n",
    "def generate_sql(user_input, schema_context):\n",
    "    prompt = f\"\"\"\n",
    "You are a helpful data assistant. Based on the schema below, write a SQL query to answer the user's question.\n",
    "\n",
    "Schema:\n",
    "{schema_context}\n",
    "\n",
    "User Question:\n",
    "{user_input}\n",
    "\n",
    "SQL Query:\n",
    "\"\"\"\n",
    "    response = client.chat.completions.create(\n",
    "        model=\"gpt-4\",\n",
    "        messages=[{\"role\": \"user\", \"content\": prompt}],\n",
    "        temperature=0.2,\n",
    "    )\n",
    "    \n",
    "    return response.choices[0].message.content.strip()\n",
    "\n"
   ]
  },
  {
   "cell_type": "code",
   "execution_count": 31,
   "metadata": {},
   "outputs": [],
   "source": [
    "\n",
    "\n",
    "# 4️⃣ Main CLI Loop\n",
    "def main():\n",
    "    schema = load_generic_schema()\n",
    "    schema_context = format_schema(schema)\n",
    "    print(schema_context)\n",
    "\n",
    "    print(\"📊 Enterprise Data Assistant (NL ➜ SQL)\\n\")\n",
    "    while True:\n",
    "        user_input = input(\"🔍 Ask a question about your data (or 'exit'): \").strip()\n",
    "        if user_input.lower() in ['exit', 'quit']:\n",
    "            break\n",
    "        sql = generate_sql(user_input, schema_context)\n",
    "        print(\"\\n🧾 Generated SQL:\\n\", sql, \"\\n\" + \"-\"*50 + \"\\n\")\n"
   ]
  },
  {
   "cell_type": "code",
   "execution_count": 32,
   "metadata": {},
   "outputs": [
    {
     "name": "stdout",
     "output_type": "stream",
     "text": [
      "\n",
      "📦 Table: `customers` (GCP_BigQuery)\n",
      "  📝 Description: Customer details including region and demographics.\n",
      "    - customer_id (STRING)\n",
      "    - name (STRING)\n",
      "    - region (STRING)\n",
      "    - signup_date (DATE)\n",
      "\n",
      "📦 Table: `orders` (AWS_Redshift)\n",
      "  📝 Description: Order transactions placed by customers.\n",
      "    - order_id (STRING)\n",
      "    - customer_id (STRING)\n",
      "    - product_id (STRING)\n",
      "    - order_date (DATE)\n",
      "    - amount (FLOAT)\n",
      "\n",
      "📦 Table: `products` (AWS_RDS)\n",
      "  📝 Description: Product catalog.\n",
      "    - product_id (STRING)\n",
      "    - product_name (STRING)\n",
      "    - category (STRING)\n",
      "    - price (FLOAT)\n",
      "\n",
      "📊 Enterprise Data Assistant (NL ➜ SQL)\n",
      "\n",
      "\n",
      "🧾 Generated SQL:\n",
      " ```sql\n",
      "SELECT c.customer_id, c.name, COUNT(o.order_id) as number_of_orders, p.product_name\n",
      "FROM customers c\n",
      "JOIN orders o ON c.customer_id = o.customer_id\n",
      "JOIN products p ON o.product_id = p.product_id\n",
      "GROUP BY c.customer_id, c.name, p.product_name;\n",
      "```\n",
      "\n",
      "Please note that this query will return the number of orders for each product by each customer. If you want the total number of orders by each customer regardless of the product, you would need to remove `p.product_name` from the `GROUP BY` clause and the `SELECT` clause. \n",
      "--------------------------------------------------\n",
      "\n"
     ]
    }
   ],
   "source": [
    "main()"
   ]
  }
 ],
 "metadata": {
  "kernelspec": {
   "display_name": "llm_exp",
   "language": "python",
   "name": "python3"
  },
  "language_info": {
   "codemirror_mode": {
    "name": "ipython",
    "version": 3
   },
   "file_extension": ".py",
   "mimetype": "text/x-python",
   "name": "python",
   "nbconvert_exporter": "python",
   "pygments_lexer": "ipython3",
   "version": "3.12.3"
  }
 },
 "nbformat": 4,
 "nbformat_minor": 2
}
